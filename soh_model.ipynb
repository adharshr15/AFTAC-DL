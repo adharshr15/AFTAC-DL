{
 "cells": [
  {
   "cell_type": "code",
   "execution_count": 3,
   "id": "d7a7e9c0",
   "metadata": {},
   "outputs": [],
   "source": [
    "import pandas as pd\n",
    "import tensorflow as tf \n",
    "from keras import layers, models\n",
    "\n"
   ]
  },
  {
   "cell_type": "markdown",
   "id": "6f17eb35",
   "metadata": {},
   "source": [
    "Get Data"
   ]
  },
  {
   "cell_type": "code",
   "execution_count": 6,
   "id": "e069ecf7",
   "metadata": {},
   "outputs": [
    {
     "data": {
      "text/html": [
       "<div>\n",
       "<style scoped>\n",
       "    .dataframe tbody tr th:only-of-type {\n",
       "        vertical-align: middle;\n",
       "    }\n",
       "\n",
       "    .dataframe tbody tr th {\n",
       "        vertical-align: top;\n",
       "    }\n",
       "\n",
       "    .dataframe thead tr th {\n",
       "        text-align: left;\n",
       "    }\n",
       "</style>\n",
       "<table border=\"1\" class=\"dataframe\">\n",
       "  <thead>\n",
       "    <tr>\n",
       "      <th></th>\n",
       "      <th colspan=\"5\" halign=\"left\">temperature</th>\n",
       "      <th colspan=\"5\" halign=\"left\">label</th>\n",
       "    </tr>\n",
       "    <tr>\n",
       "      <th>sensor_id</th>\n",
       "      <th>1</th>\n",
       "      <th>2</th>\n",
       "      <th>3</th>\n",
       "      <th>4</th>\n",
       "      <th>5</th>\n",
       "      <th>1</th>\n",
       "      <th>2</th>\n",
       "      <th>3</th>\n",
       "      <th>4</th>\n",
       "      <th>5</th>\n",
       "    </tr>\n",
       "  </thead>\n",
       "  <tbody>\n",
       "    <tr>\n",
       "      <th>0</th>\n",
       "      <td>55.190138</td>\n",
       "      <td>59.393640</td>\n",
       "      <td>57.931946</td>\n",
       "      <td>46.176930</td>\n",
       "      <td>50.252507</td>\n",
       "      <td>0.0</td>\n",
       "      <td>0.0</td>\n",
       "      <td>0.0</td>\n",
       "      <td>0.0</td>\n",
       "      <td>0.0</td>\n",
       "    </tr>\n",
       "    <tr>\n",
       "      <th>1</th>\n",
       "      <td>55.506565</td>\n",
       "      <td>60.327828</td>\n",
       "      <td>55.147379</td>\n",
       "      <td>51.772045</td>\n",
       "      <td>46.596798</td>\n",
       "      <td>0.0</td>\n",
       "      <td>0.0</td>\n",
       "      <td>0.0</td>\n",
       "      <td>0.0</td>\n",
       "      <td>0.0</td>\n",
       "    </tr>\n",
       "    <tr>\n",
       "      <th>2</th>\n",
       "      <td>55.323770</td>\n",
       "      <td>58.954091</td>\n",
       "      <td>58.597680</td>\n",
       "      <td>49.641421</td>\n",
       "      <td>43.620914</td>\n",
       "      <td>0.0</td>\n",
       "      <td>0.0</td>\n",
       "      <td>0.0</td>\n",
       "      <td>0.0</td>\n",
       "      <td>0.0</td>\n",
       "    </tr>\n",
       "    <tr>\n",
       "      <th>3</th>\n",
       "      <td>50.400828</td>\n",
       "      <td>56.299034</td>\n",
       "      <td>56.996665</td>\n",
       "      <td>50.715814</td>\n",
       "      <td>46.368151</td>\n",
       "      <td>0.0</td>\n",
       "      <td>0.0</td>\n",
       "      <td>0.0</td>\n",
       "      <td>0.0</td>\n",
       "      <td>0.0</td>\n",
       "    </tr>\n",
       "    <tr>\n",
       "      <th>4</th>\n",
       "      <td>59.268775</td>\n",
       "      <td>54.955673</td>\n",
       "      <td>57.277246</td>\n",
       "      <td>46.758207</td>\n",
       "      <td>45.800697</td>\n",
       "      <td>0.0</td>\n",
       "      <td>0.0</td>\n",
       "      <td>0.0</td>\n",
       "      <td>0.0</td>\n",
       "      <td>0.0</td>\n",
       "    </tr>\n",
       "  </tbody>\n",
       "</table>\n",
       "</div>"
      ],
      "text/plain": [
       "          temperature                                             label       \\\n",
       "sensor_id           1          2          3          4          5     1    2   \n",
       "0           55.190138  59.393640  57.931946  46.176930  50.252507   0.0  0.0   \n",
       "1           55.506565  60.327828  55.147379  51.772045  46.596798   0.0  0.0   \n",
       "2           55.323770  58.954091  58.597680  49.641421  43.620914   0.0  0.0   \n",
       "3           50.400828  56.299034  56.996665  50.715814  46.368151   0.0  0.0   \n",
       "4           59.268775  54.955673  57.277246  46.758207  45.800697   0.0  0.0   \n",
       "\n",
       "                          \n",
       "sensor_id    3    4    5  \n",
       "0          0.0  0.0  0.0  \n",
       "1          0.0  0.0  0.0  \n",
       "2          0.0  0.0  0.0  \n",
       "3          0.0  0.0  0.0  \n",
       "4          0.0  0.0  0.0  "
      ]
     },
     "execution_count": 6,
     "metadata": {},
     "output_type": "execute_result"
    }
   ],
   "source": [
    "df = pd.read_csv(\"./simulated_dataset/all_data.csv\")\n",
    "\n",
    "df_pivot = df.pivot(index=\"timestamp\", columns=\"sensor_id\", values=[\"temperature\", \"label\"])\n",
    "\n",
    "df_pivot = df_pivot.reset_index(drop=True)\n",
    "\n",
    "df_pivot.head()"
   ]
  },
  {
   "cell_type": "markdown",
   "id": "7c2b4950",
   "metadata": {},
   "source": [
    "Build CNN"
   ]
  },
  {
   "cell_type": "code",
   "execution_count": null,
   "id": "4ae53167",
   "metadata": {},
   "outputs": [],
   "source": []
  },
  {
   "cell_type": "markdown",
   "id": "7cc0814e",
   "metadata": {},
   "source": [
    "Training"
   ]
  },
  {
   "cell_type": "markdown",
   "id": "1692f59f",
   "metadata": {},
   "source": [
    "Testing"
   ]
  }
 ],
 "metadata": {
  "kernelspec": {
   "display_name": "env",
   "language": "python",
   "name": "python3"
  },
  "language_info": {
   "codemirror_mode": {
    "name": "ipython",
    "version": 3
   },
   "file_extension": ".py",
   "mimetype": "text/x-python",
   "name": "python",
   "nbconvert_exporter": "python",
   "pygments_lexer": "ipython3",
   "version": "3.12.7"
  }
 },
 "nbformat": 4,
 "nbformat_minor": 5
}
