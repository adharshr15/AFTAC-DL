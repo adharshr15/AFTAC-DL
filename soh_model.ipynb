{
 "cells": [
  {
   "cell_type": "code",
   "execution_count": 36,
   "id": "d7a7e9c0",
   "metadata": {},
   "outputs": [],
   "source": [
    "import pandas as pd\n",
    "import tensorflow as tf \n",
    "from pytorch_tcn import TCN\n",
    "from keras import layers, models\n",
    "\n"
   ]
  },
  {
   "cell_type": "markdown",
   "id": "6f17eb35",
   "metadata": {},
   "source": [
    "Get Data"
   ]
  },
  {
   "cell_type": "code",
   "execution_count": 35,
   "id": "e069ecf7",
   "metadata": {},
   "outputs": [
    {
     "data": {
      "text/plain": [
       "{1:                      timestamp temperature label\n",
       " sensor_id                                       \n",
       " 0          2025-10-14 17:05:40   47.088848   0.0\n",
       " 1          2025-10-14 17:05:41   47.939854   0.0\n",
       " 2          2025-10-14 17:05:42   43.477069   0.0\n",
       " 3          2025-10-14 17:05:43   44.807002   0.0\n",
       " 4          2025-10-14 17:05:44   49.098493   0.0\n",
       " ...                        ...         ...   ...\n",
       " 21596      2025-10-14 23:05:36   48.194567   0.0\n",
       " 21597      2025-10-14 23:05:37   50.989738   0.0\n",
       " 21598      2025-10-14 23:05:38   47.142103   0.0\n",
       " 21599      2025-10-14 23:05:39   44.380345   0.0\n",
       " 21600      2025-10-14 23:05:40   45.995404   0.0\n",
       " \n",
       " [21601 rows x 3 columns],\n",
       " 2:                      timestamp temperature label\n",
       " sensor_id                                       \n",
       " 0          2025-10-14 17:05:40   51.786915   0.0\n",
       " 1          2025-10-14 17:05:41   49.126866   0.0\n",
       " 2          2025-10-14 17:05:42   49.720835   0.0\n",
       " 3          2025-10-14 17:05:43   49.667801   0.0\n",
       " 4          2025-10-14 17:05:44   57.302099   0.0\n",
       " ...                        ...         ...   ...\n",
       " 21596      2025-10-14 23:05:36   43.121297   0.0\n",
       " 21597      2025-10-14 23:05:37   49.984367   0.0\n",
       " 21598      2025-10-14 23:05:38   42.068131   0.0\n",
       " 21599      2025-10-14 23:05:39   49.353846   0.0\n",
       " 21600      2025-10-14 23:05:40   50.159115   0.0\n",
       " \n",
       " [21601 rows x 3 columns],\n",
       " 3:                      timestamp temperature label\n",
       " sensor_id                                       \n",
       " 0          2025-10-14 17:05:40   56.962859   0.0\n",
       " 1          2025-10-14 17:05:41   53.570960   0.0\n",
       " 2          2025-10-14 17:05:42   51.641507   0.0\n",
       " 3          2025-10-14 17:05:43   58.683527   0.0\n",
       " 4          2025-10-14 17:05:44   50.081191   0.0\n",
       " ...                        ...         ...   ...\n",
       " 21596      2025-10-14 23:05:36   51.168246   0.0\n",
       " 21597      2025-10-14 23:05:37   52.867915   0.0\n",
       " 21598      2025-10-14 23:05:38   47.667152   0.0\n",
       " 21599      2025-10-14 23:05:39   52.149709   0.0\n",
       " 21600      2025-10-14 23:05:40   48.017802   0.0\n",
       " \n",
       " [21601 rows x 3 columns],\n",
       " 4:                      timestamp temperature label\n",
       " sensor_id                                       \n",
       " 0          2025-10-14 17:05:40   54.861375   0.0\n",
       " 1          2025-10-14 17:05:41   53.933220   0.0\n",
       " 2          2025-10-14 17:05:42   52.647251   0.0\n",
       " 3          2025-10-14 17:05:43   51.658792   0.0\n",
       " 4          2025-10-14 17:05:44   50.497540   0.0\n",
       " ...                        ...         ...   ...\n",
       " 21596      2025-10-14 23:05:36   56.407588   0.0\n",
       " 21597      2025-10-14 23:05:37   49.806924   0.0\n",
       " 21598      2025-10-14 23:05:38   51.500127   0.0\n",
       " 21599      2025-10-14 23:05:39   58.856000   0.0\n",
       " 21600      2025-10-14 23:05:40   57.058164   0.0\n",
       " \n",
       " [21601 rows x 3 columns]}"
      ]
     },
     "execution_count": 35,
     "metadata": {},
     "output_type": "execute_result"
    }
   ],
   "source": [
    "df = pd.read_csv(\"./simulated_dataset/all_data.csv\")\n",
    "\n",
    "df_pivot = df.pivot(index=\"timestamp\", columns=\"sensor_id\", values=[\"temperature\", \"label\"])\n",
    "df_pivot = df_pivot.reset_index(drop=False)\n",
    "\n",
    "df_pivot.head()\n",
    "\n",
    "sensor_dfs = {}\n",
    "\n",
    "for i in range(1, 5):\n",
    "    sensor_df = df_pivot[['timestamp']].copy()\n",
    "    sensor_df[['temperature', 'label']] = df_pivot.xs(i, axis=1, level=1)\n",
    "    \n",
    "    sensor_dfs[i] = sensor_df\n",
    "\n",
    "sensor_dfs\n"
   ]
  },
  {
   "cell_type": "markdown",
   "id": "298e6bfd",
   "metadata": {},
   "source": [
    "Train/Test Split"
   ]
  },
  {
   "cell_type": "code",
   "execution_count": null,
   "id": "45777f2b",
   "metadata": {},
   "outputs": [],
   "source": [
    "train_dfs = {}\n",
    "test_dfs = {}\n",
    "\n",
    "for i, sensor_df in sensor_dfs.items():\n",
    "    n = int(len(sensor_df) * .8)\n",
    "    train_dfs[i] = sensor_df.iloc[:n].reset_index(drop=True)\n",
    "    test_dfs[i] = sensor_df.iloc[n:].reset_index(drop=True)\n",
    "\n"
   ]
  },
  {
   "cell_type": "markdown",
   "id": "7c2b4950",
   "metadata": {},
   "source": [
    "Build CNN"
   ]
  },
  {
   "cell_type": "code",
   "execution_count": null,
   "id": "4ae53167",
   "metadata": {},
   "outputs": [],
   "source": [
    "model = TCN(\n",
    "    \n",
    ")"
   ]
  },
  {
   "cell_type": "markdown",
   "id": "7cc0814e",
   "metadata": {},
   "source": [
    "Training"
   ]
  },
  {
   "cell_type": "markdown",
   "id": "1692f59f",
   "metadata": {},
   "source": [
    "Testing"
   ]
  }
 ],
 "metadata": {
  "kernelspec": {
   "display_name": "env",
   "language": "python",
   "name": "python3"
  },
  "language_info": {
   "codemirror_mode": {
    "name": "ipython",
    "version": 3
   },
   "file_extension": ".py",
   "mimetype": "text/x-python",
   "name": "python",
   "nbconvert_exporter": "python",
   "pygments_lexer": "ipython3",
   "version": "3.12.7"
  }
 },
 "nbformat": 4,
 "nbformat_minor": 5
}
