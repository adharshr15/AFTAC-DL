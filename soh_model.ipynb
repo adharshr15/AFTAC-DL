{
 "cells": [
  {
   "cell_type": "code",
   "execution_count": 52,
   "id": "d7a7e9c0",
   "metadata": {},
   "outputs": [],
   "source": [
    "import pandas as pd\n",
    "import numpy as np\n",
    "import tensorflow as tf \n",
    "import torch\n",
    "from torch.utils.data import TensorDataset, DataLoader\n",
    "from pytorch_tcn import TCN\n",
    "from keras import layers, models\n",
    "\n"
   ]
  },
  {
   "cell_type": "markdown",
   "id": "6f17eb35",
   "metadata": {},
   "source": [
    "Get Data"
   ]
  },
  {
   "cell_type": "code",
   "execution_count": 47,
   "id": "e069ecf7",
   "metadata": {},
   "outputs": [
    {
     "data": {
      "text/plain": [
       "{1:        temperature  label\n",
       " 0        47.088848    0.0\n",
       " 1        47.939854    0.0\n",
       " 2        43.477069    0.0\n",
       " 3        44.807002    0.0\n",
       " 4        49.098493    0.0\n",
       " ...            ...    ...\n",
       " 21596    48.194567    0.0\n",
       " 21597    50.989738    0.0\n",
       " 21598    47.142103    0.0\n",
       " 21599    44.380345    0.0\n",
       " 21600    45.995404    0.0\n",
       " \n",
       " [21601 rows x 2 columns],\n",
       " 2:        temperature  label\n",
       " 0        51.786915    0.0\n",
       " 1        49.126866    0.0\n",
       " 2        49.720835    0.0\n",
       " 3        49.667801    0.0\n",
       " 4        57.302099    0.0\n",
       " ...            ...    ...\n",
       " 21596    43.121297    0.0\n",
       " 21597    49.984367    0.0\n",
       " 21598    42.068131    0.0\n",
       " 21599    49.353846    0.0\n",
       " 21600    50.159115    0.0\n",
       " \n",
       " [21601 rows x 2 columns],\n",
       " 3:        temperature  label\n",
       " 0        56.962859    0.0\n",
       " 1        53.570960    0.0\n",
       " 2        51.641507    0.0\n",
       " 3        58.683527    0.0\n",
       " 4        50.081191    0.0\n",
       " ...            ...    ...\n",
       " 21596    51.168246    0.0\n",
       " 21597    52.867915    0.0\n",
       " 21598    47.667152    0.0\n",
       " 21599    52.149709    0.0\n",
       " 21600    48.017802    0.0\n",
       " \n",
       " [21601 rows x 2 columns],\n",
       " 4:        temperature  label\n",
       " 0        54.861375    0.0\n",
       " 1        53.933220    0.0\n",
       " 2        52.647251    0.0\n",
       " 3        51.658792    0.0\n",
       " 4        50.497540    0.0\n",
       " ...            ...    ...\n",
       " 21596    56.407588    0.0\n",
       " 21597    49.806924    0.0\n",
       " 21598    51.500127    0.0\n",
       " 21599    58.856000    0.0\n",
       " 21600    57.058164    0.0\n",
       " \n",
       " [21601 rows x 2 columns]}"
      ]
     },
     "execution_count": 47,
     "metadata": {},
     "output_type": "execute_result"
    }
   ],
   "source": [
    "df = pd.read_csv(\"./simulated_dataset/all_data.csv\")\n",
    "\n",
    "df_pivot = df.pivot(index=\"timestamp\", columns=\"sensor_id\", values=[\"temperature\", \"label\"])\n",
    "df_pivot = df_pivot.reset_index(drop=True)\n",
    "\n",
    "df_pivot.head()\n",
    "\n",
    "sensor_dfs = {}\n",
    "\n",
    "for i in range(1, 5):\n",
    "    sensor_df = df_pivot.xs(i, axis=1, level=1).copy()\n",
    "    \n",
    "    sensor_dfs[i] = sensor_df\n",
    "\n",
    "sensor_dfs\n"
   ]
  },
  {
   "cell_type": "markdown",
   "id": "298e6bfd",
   "metadata": {},
   "source": [
    "Train/Test Split"
   ]
  },
  {
   "cell_type": "code",
   "execution_count": 48,
   "id": "45777f2b",
   "metadata": {},
   "outputs": [
    {
     "data": {
      "text/html": [
       "<div>\n",
       "<style scoped>\n",
       "    .dataframe tbody tr th:only-of-type {\n",
       "        vertical-align: middle;\n",
       "    }\n",
       "\n",
       "    .dataframe tbody tr th {\n",
       "        vertical-align: top;\n",
       "    }\n",
       "\n",
       "    .dataframe thead th {\n",
       "        text-align: right;\n",
       "    }\n",
       "</style>\n",
       "<table border=\"1\" class=\"dataframe\">\n",
       "  <thead>\n",
       "    <tr style=\"text-align: right;\">\n",
       "      <th></th>\n",
       "      <th>temperature</th>\n",
       "      <th>label</th>\n",
       "    </tr>\n",
       "  </thead>\n",
       "  <tbody>\n",
       "    <tr>\n",
       "      <th>0</th>\n",
       "      <td>47.088848</td>\n",
       "      <td>0.0</td>\n",
       "    </tr>\n",
       "    <tr>\n",
       "      <th>1</th>\n",
       "      <td>47.939854</td>\n",
       "      <td>0.0</td>\n",
       "    </tr>\n",
       "    <tr>\n",
       "      <th>2</th>\n",
       "      <td>43.477069</td>\n",
       "      <td>0.0</td>\n",
       "    </tr>\n",
       "    <tr>\n",
       "      <th>3</th>\n",
       "      <td>44.807002</td>\n",
       "      <td>0.0</td>\n",
       "    </tr>\n",
       "    <tr>\n",
       "      <th>4</th>\n",
       "      <td>49.098493</td>\n",
       "      <td>0.0</td>\n",
       "    </tr>\n",
       "    <tr>\n",
       "      <th>...</th>\n",
       "      <td>...</td>\n",
       "      <td>...</td>\n",
       "    </tr>\n",
       "    <tr>\n",
       "      <th>17275</th>\n",
       "      <td>49.537236</td>\n",
       "      <td>0.0</td>\n",
       "    </tr>\n",
       "    <tr>\n",
       "      <th>17276</th>\n",
       "      <td>47.045929</td>\n",
       "      <td>0.0</td>\n",
       "    </tr>\n",
       "    <tr>\n",
       "      <th>17277</th>\n",
       "      <td>48.019815</td>\n",
       "      <td>0.0</td>\n",
       "    </tr>\n",
       "    <tr>\n",
       "      <th>17278</th>\n",
       "      <td>44.587954</td>\n",
       "      <td>0.0</td>\n",
       "    </tr>\n",
       "    <tr>\n",
       "      <th>17279</th>\n",
       "      <td>49.285419</td>\n",
       "      <td>0.0</td>\n",
       "    </tr>\n",
       "  </tbody>\n",
       "</table>\n",
       "<p>17280 rows × 2 columns</p>\n",
       "</div>"
      ],
      "text/plain": [
       "       temperature  label\n",
       "0        47.088848    0.0\n",
       "1        47.939854    0.0\n",
       "2        43.477069    0.0\n",
       "3        44.807002    0.0\n",
       "4        49.098493    0.0\n",
       "...            ...    ...\n",
       "17275    49.537236    0.0\n",
       "17276    47.045929    0.0\n",
       "17277    48.019815    0.0\n",
       "17278    44.587954    0.0\n",
       "17279    49.285419    0.0\n",
       "\n",
       "[17280 rows x 2 columns]"
      ]
     },
     "execution_count": 48,
     "metadata": {},
     "output_type": "execute_result"
    }
   ],
   "source": [
    "train_dfs = {}\n",
    "test_dfs = {}\n",
    "\n",
    "for i, sensor_df in sensor_dfs.items():\n",
    "    n = int(len(sensor_df) * .8)\n",
    "    train_dfs[i] = sensor_df.iloc[:n].reset_index(drop=True)\n",
    "    test_dfs[i] = sensor_df.iloc[n:].reset_index(drop=True)\n",
    "\n",
    "train_dfs[1]"
   ]
  },
  {
   "cell_type": "markdown",
   "id": "95e6beb6",
   "metadata": {},
   "source": [
    "Convert train/test to sequences"
   ]
  },
  {
   "cell_type": "code",
   "execution_count": null,
   "id": "2c6def12",
   "metadata": {},
   "outputs": [
    {
     "name": "stdout",
     "output_type": "stream",
     "text": [
      "torch.Size([17260, 1])\n",
      "torch.Size([4301, 1])\n"
     ]
    }
   ],
   "source": [
    "# number of past timesteps the TCN sees\n",
    "seq_length = 20\n",
    "\n",
    "# creates sequences based on data with window size == seq_length\n",
    "def create_sequences(df, seq_length=20):\n",
    "    '''\n",
    "    Sequences are needed for giving the model information about history, since feed-forward networks do not know the order of the data.\n",
    "    TCN's expect input of shape [batch_size, num_features, sequence_length]\n",
    "    \n",
    "    Args:\n",
    "        df: time-series data\n",
    "        seq_length: length of each sequence\n",
    "    \n",
    "    Returns:\n",
    "        X (shape: [num_samples, seq_length, num_inputs]), y (shape: [num_samples, num_inputs])\n",
    "    '''\n",
    "    X, y = [], []\n",
    "    values = df['temperature'].values\n",
    "    labels = df['label'].values\n",
    "    \n",
    "    X = np.lib.stride_tricks.sliding_window_view(values, window_shape=seq_length)\n",
    "    X = X[:-1]\n",
    "    y = labels[seq_length:]\n",
    "    \n",
    "    X = torch.from_numpy(X).unsqueeze(-1) \n",
    "    y = torch.from_numpy(y).unsqueeze(-1)\n",
    "    \n",
    "    return X, y\n",
    "\n",
    "\n",
    "X_train, y_train = create_sequences(train_dfs[1], seq_length)\n",
    "X_test, y_test = create_sequences(test_dfs[1], seq_length)"
   ]
  },
  {
   "cell_type": "markdown",
   "id": "7c2b4950",
   "metadata": {},
   "source": [
    "Build CNN"
   ]
  },
  {
   "cell_type": "code",
   "execution_count": null,
   "id": "4ae53167",
   "metadata": {},
   "outputs": [],
   "source": [
    "model = TCN(\n",
    "    num_inputs=1,\n",
    "    output_channel=1,\n",
    "    output_activation=1,\n",
    "    num_channels=[32, 32, 64, 64],\n",
    "    kernel_size=4,\n",
    "    dropout=0.1,\n",
    "    use_skip_connections=True,\n",
    ")"
   ]
  },
  {
   "cell_type": "markdown",
   "id": "7cc0814e",
   "metadata": {},
   "source": [
    "Training"
   ]
  },
  {
   "cell_type": "markdown",
   "id": "1692f59f",
   "metadata": {},
   "source": [
    "Testing"
   ]
  }
 ],
 "metadata": {
  "kernelspec": {
   "display_name": "env",
   "language": "python",
   "name": "python3"
  },
  "language_info": {
   "codemirror_mode": {
    "name": "ipython",
    "version": 3
   },
   "file_extension": ".py",
   "mimetype": "text/x-python",
   "name": "python",
   "nbconvert_exporter": "python",
   "pygments_lexer": "ipython3",
   "version": "3.12.7"
  }
 },
 "nbformat": 4,
 "nbformat_minor": 5
}
