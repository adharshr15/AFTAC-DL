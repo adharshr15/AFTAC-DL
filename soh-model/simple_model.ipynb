{
 "cells": [
  {
   "cell_type": "code",
   "execution_count": null,
   "id": "86b8614b",
   "metadata": {},
   "outputs": [],
   "source": [
    "!pip install tensorflow numpy pandas matplotlib"
   ]
  },
  {
   "cell_type": "code",
   "execution_count": null,
   "id": "3117d528",
   "metadata": {},
   "outputs": [],
   "source": [
    "import numpy as np\n",
    "import pandas as pd\n",
    "import matplotlib.pyplot as plt\n",
    "from tensorflow.keras.models import Sequential\n",
    "from tensorflow.keras.layers import Conv1D, MaxPooling1D, Flatten, Dense"
   ]
  },
  {
   "cell_type": "code",
   "execution_count": null,
   "id": "97ff2012",
   "metadata": {},
   "outputs": [],
   "source": [
    "np.random.seed(0)\n",
    "t = np.linspace(0, 100, 500)\n",
    "y = np.sin(t) + np.random.normal(0, 0.1, 500)\n",
    "\n",
    "train_size = int(0.8 * len(t))\n",
    "train_data, test_data = y[:train_size], y[train_size:]\n",
    "\n",
    "# Define a function to create sequences for training\n",
    "def create_sequences(data, seq_length):\n",
    "    sequences = []\n",
    "    target = []\n",
    "    for i in range(len(data) - seq_length):\n",
    "        sequences.append(data[i:i+seq_length])\n",
    "        target.append(data[i+seq_length])\n",
    "    return np.array(sequences), np.array(target)\n",
    "\n",
    "seq_length = 10\n",
    "X_train, y_train = create_sequences(train_data, seq_length)\n",
    "X_test, y_test = create_sequences(test_data, seq_length)"
   ]
  },
  {
   "cell_type": "code",
   "execution_count": null,
   "id": "f178daee",
   "metadata": {},
   "outputs": [],
   "source": [
    "# Reshape the input data for the CNN\n",
    "X_train = X_train.reshape(X_train.shape[0], X_train.shape[1], 1)\n",
    "X_test = X_test.reshape(X_test.shape[0], X_test.shape[1], 1)"
   ]
  },
  {
   "cell_type": "code",
   "execution_count": null,
   "id": "d3e9fceb",
   "metadata": {},
   "outputs": [],
   "source": [
    "# Create a CNN model\n",
    "model = Sequential()\n",
    "model.add(Conv1D(filters=64, kernel_size=3, activation='relu', \n",
    "input_shape=(seq_length, 1)))\n",
    "model.add(MaxPooling1D(pool_size=2))\n",
    "model.add(Flatten())\n",
    "model.add(Dense(50, activation='relu'))\n",
    "model.add(Dense(1))  # Output layer for regression"
   ]
  },
  {
   "cell_type": "code",
   "execution_count": null,
   "id": "c17a6b46",
   "metadata": {},
   "outputs": [],
   "source": [
    "# Compile the model\n",
    "# Mean Squared Error for regression\n",
    "model.compile(optimizer='adam', loss='mse')  \n",
    "\n",
    "# Train the model\n",
    "model.fit(X_train, y_train, epochs=50, batch_size=16, validation_data=(X_test, \n",
    "y_test), verbose=2)\n",
    "\n",
    "# Make predictions\n",
    "y_pred = model.predict(X_test)"
   ]
  },
  {
   "cell_type": "code",
   "execution_count": null,
   "id": "b6f966cd",
   "metadata": {},
   "outputs": [],
   "source": [
    "# Plot the original and predicted time series\n",
    "plt.figure(figsize=(12, 6))\n",
    "plt.plot(np.arange(len(y_train), len(y_train) + len(y_test)), y_test, \n",
    "label='True')\n",
    "plt.plot(np.arange(len(y_train), len(y_train) + len(y_test)), y_pred, \n",
    "label='Predicted')\n",
    "plt.legend()\n",
    "plt.xlabel('Time')\n",
    "plt.ylabel('Value')\n",
    "plt.title('Time Series Forecasting with CNN')\n",
    "plt.show()"
   ]
  }
 ],
 "metadata": {
  "language_info": {
   "name": "python"
  }
 },
 "nbformat": 4,
 "nbformat_minor": 5
}
