{
  "nbformat": 4,
  "nbformat_minor": 0,
  "metadata": {
    "colab": {
      "provenance": [],
      "gpuType": "V5E1"
    },
    "kernelspec": {
      "name": "python3",
      "display_name": "Python 3"
    },
    "language_info": {
      "name": "python"
    },
    "accelerator": "TPU"
  },
  "cells": [
    {
      "cell_type": "code",
      "execution_count": null,
      "metadata": {
        "id": "QqQthhNaJAk4"
      },
      "outputs": [],
      "source": [
        "import matplotlib.pyplot as plt\n",
        "\n",
        "from tensorflow.keras.layers import Conv2D, MaxPooling2D, Dense, BatchNormalization, Input, Dropout, GlobalAveragePooling2D\n",
        "from tensorflow.keras.models import Model\n",
        "from tensorflow.keras.optimizers import Adam\n",
        "from tensorflow.keras.preprocessing.image import ImageDataGenerator\n",
        "from tensorflow.keras.callbacks import ReduceLROnPlateau, EarlyStopping, ModelCheckpoint\n",
        "from tensorflow.keras.models import load_model"
      ]
    },
    {
      "cell_type": "code",
      "metadata": {
        "colab": {
          "base_uri": "https://localhost:8080/"
        },
        "id": "f1c60eb4",
        "outputId": "70bb839e-25b3-4f02-986a-c7f7f02518ba"
      },
      "source": [
        "\n",
        "import os\n",
        "import zipfile\n",
        "import shutil\n",
        "\n",
        "zip_file_path = \"/content/cats-v-dogs.zip\"\n",
        "extract_dir = \"/content/cats-v-dogs/\"\n",
        "\n",
        "os.makedirs(extract_dir, exist_ok=True)\n",
        "\n",
        "try:\n",
        "    with zipfile.ZipFile(zip_file_path, 'r') as zip_ref:\n",
        "        for file_info in zip_ref.infolist():\n",
        "            # Extract only the files we want, avoiding the extra directory structure and __MACOSX\n",
        "            if not file_info.filename.startswith('__MACOSX/'):\n",
        "                # Remove the leading 'cats-v-dogs/' from the filename if it exists\n",
        "                arcname = file_info.filename\n",
        "                if arcname.startswith('cats-v-dogs/'):\n",
        "                    arcname = arcname[len('cats-v-dogs/'):]\n",
        "\n",
        "                # Only extract if the filename is not empty after removing the prefix\n",
        "                if arcname:\n",
        "                    file_info.filename = arcname\n",
        "                    zip_ref.extract(file_info, extract_dir)\n",
        "\n",
        "\n",
        "    print(f\"File extracted to: {extract_dir}\")\n",
        "\n",
        "    # Remove the __MACOSX folder if it exists\n",
        "    macosx_folder = os.path.join(\"/content/\", '__MACOSX')\n",
        "    if os.path.exists(macosx_folder):\n",
        "        shutil.rmtree(macosx_folder)\n",
        "        print(f\"Folder '{macosx_folder}' deleted successfully.\")\n",
        "\n",
        "except Exception as e:\n",
        "    print(f\"An error occurred during unzipping: {e}\")"
      ],
      "execution_count": null,
      "outputs": [
        {
          "output_type": "stream",
          "name": "stdout",
          "text": [
            "An error occurred during unzipping: File is not a zip file\n"
          ]
        }
      ]
    },
    {
      "cell_type": "code",
      "source": [
        "print(len(os.listdir('cats-v-dogs/training/cats')))\n",
        "print(len(os.listdir('cats-v-dogs/training/dogs')))\n",
        "\n",
        "print(len(os.listdir('cats-v-dogs/validation/cats')))\n",
        "print(len(os.listdir('cats-v-dogs/validation/dogs')))\n",
        "\n",
        "print(len(os.listdir('cats-v-dogs/test/cats')))\n",
        "print(len(os.listdir('cats-v-dogs/test/dogs')))"
      ],
      "metadata": {
        "colab": {
          "base_uri": "https://localhost:8080/",
          "height": 211
        },
        "id": "ElqrPyGD0rxN",
        "outputId": "c2f7cc7b-0cf3-4dbe-bbd2-0f02b20967ac"
      },
      "execution_count": null,
      "outputs": [
        {
          "output_type": "error",
          "ename": "FileNotFoundError",
          "evalue": "[Errno 2] No such file or directory: 'cats-v-dogs/training/cats'",
          "traceback": [
            "\u001b[0;31m---------------------------------------------------------------------------\u001b[0m",
            "\u001b[0;31mFileNotFoundError\u001b[0m                         Traceback (most recent call last)",
            "\u001b[0;32m/tmp/ipython-input-2244782845.py\u001b[0m in \u001b[0;36m<cell line: 0>\u001b[0;34m()\u001b[0m\n\u001b[0;32m----> 1\u001b[0;31m \u001b[0mprint\u001b[0m\u001b[0;34m(\u001b[0m\u001b[0mlen\u001b[0m\u001b[0;34m(\u001b[0m\u001b[0mos\u001b[0m\u001b[0;34m.\u001b[0m\u001b[0mlistdir\u001b[0m\u001b[0;34m(\u001b[0m\u001b[0;34m'cats-v-dogs/training/cats'\u001b[0m\u001b[0;34m)\u001b[0m\u001b[0;34m)\u001b[0m\u001b[0;34m)\u001b[0m\u001b[0;34m\u001b[0m\u001b[0;34m\u001b[0m\u001b[0m\n\u001b[0m\u001b[1;32m      2\u001b[0m \u001b[0mprint\u001b[0m\u001b[0;34m(\u001b[0m\u001b[0mlen\u001b[0m\u001b[0;34m(\u001b[0m\u001b[0mos\u001b[0m\u001b[0;34m.\u001b[0m\u001b[0mlistdir\u001b[0m\u001b[0;34m(\u001b[0m\u001b[0;34m'cats-v-dogs/training/dogs'\u001b[0m\u001b[0;34m)\u001b[0m\u001b[0;34m)\u001b[0m\u001b[0;34m)\u001b[0m\u001b[0;34m\u001b[0m\u001b[0;34m\u001b[0m\u001b[0m\n\u001b[1;32m      3\u001b[0m \u001b[0;34m\u001b[0m\u001b[0m\n\u001b[1;32m      4\u001b[0m \u001b[0mprint\u001b[0m\u001b[0;34m(\u001b[0m\u001b[0mlen\u001b[0m\u001b[0;34m(\u001b[0m\u001b[0mos\u001b[0m\u001b[0;34m.\u001b[0m\u001b[0mlistdir\u001b[0m\u001b[0;34m(\u001b[0m\u001b[0;34m'cats-v-dogs/validation/cats'\u001b[0m\u001b[0;34m)\u001b[0m\u001b[0;34m)\u001b[0m\u001b[0;34m)\u001b[0m\u001b[0;34m\u001b[0m\u001b[0;34m\u001b[0m\u001b[0m\n\u001b[1;32m      5\u001b[0m \u001b[0mprint\u001b[0m\u001b[0;34m(\u001b[0m\u001b[0mlen\u001b[0m\u001b[0;34m(\u001b[0m\u001b[0mos\u001b[0m\u001b[0;34m.\u001b[0m\u001b[0mlistdir\u001b[0m\u001b[0;34m(\u001b[0m\u001b[0;34m'cats-v-dogs/validation/dogs'\u001b[0m\u001b[0;34m)\u001b[0m\u001b[0;34m)\u001b[0m\u001b[0;34m)\u001b[0m\u001b[0;34m\u001b[0m\u001b[0;34m\u001b[0m\u001b[0m\n",
            "\u001b[0;31mFileNotFoundError\u001b[0m: [Errno 2] No such file or directory: 'cats-v-dogs/training/cats'"
          ]
        }
      ]
    },
    {
      "cell_type": "code",
      "source": [
        "#Define data path\n",
        "CAT_DIR = '/content/drive/MyDrive/catsvsdogs-dataset/PetImages/Cat'\n",
        "DOG_DIR = '/content/drive/MyDrive/catsvsdogs-dataset/PetImages/Dog'\n",
        "\n",
        "TRAINING_DIR = \"cats-v-dogs/training/\"\n",
        "VALIDATION_DIR = \"cats-v-dogs/validation/\"\n",
        "TESTING_DIR = \"cats-v-dogs/test/\"\n",
        "\n",
        "# Define whether to include test split or not\n",
        "INCLUDE_TEST = True"
      ],
      "metadata": {
        "id": "ezw8Vtb-Je3L"
      },
      "execution_count": null,
      "outputs": []
    },
    {
      "cell_type": "markdown",
      "source": [
        "# Model"
      ],
      "metadata": {
        "id": "UrMz3f2FLOPc"
      }
    },
    {
      "cell_type": "code",
      "source": [
        "# 1. Improved Data Augmentation for Better Generalization\n",
        "train_gen_improved = ImageDataGenerator(\n",
        "    rescale=1./255,\n",
        "    rotation_range=20,           # Random rotations\n",
        "    width_shift_range=0.2,       # Random horizontal shifts\n",
        "    height_shift_range=0.2,      # Random vertical shifts\n",
        "    shear_range=0.2,            # Random shearing\n",
        "    zoom_range=0.2,             # Random zooming\n",
        "    horizontal_flip=True,        # Random horizontal flips\n",
        "    fill_mode='nearest'         # Fill mode for transformations\n",
        ")\n",
        "\n",
        "validation_gen_improved = ImageDataGenerator(rescale=1./255)\n",
        "\n",
        "if INCLUDE_TEST:\n",
        "    test_gen_improved = ImageDataGenerator(rescale=1./255)"
      ],
      "metadata": {
        "id": "VvMFgtTALQCD"
      },
      "execution_count": null,
      "outputs": []
    },
    {
      "cell_type": "code",
      "source": [
        "# 2. Better Model Architecture with Batch Normalization\n",
        "def create_improved_model():\n",
        "    inputs = Input(shape=(128, 128, 3))\n",
        "\n",
        "    # First block\n",
        "    x = Conv2D(32, (3, 3), activation='relu', padding='same')(inputs)\n",
        "    x = BatchNormalization()(x)\n",
        "    x = Conv2D(32, (3, 3), activation='relu', padding='same')(x)\n",
        "    x = MaxPooling2D(2, 2)(x)\n",
        "    x = Dropout(0.25)(x)\n",
        "\n",
        "    # Second block\n",
        "    x = Conv2D(64, (3, 3), activation='relu', padding='same')(x)\n",
        "    x = BatchNormalization()(x)\n",
        "    x = Conv2D(64, (3, 3), activation='relu', padding='same')(x)\n",
        "    x = MaxPooling2D(2, 2)(x)\n",
        "    x = Dropout(0.25)(x)\n",
        "\n",
        "    # Third block\n",
        "    x = Conv2D(128, (3, 3), activation='relu', padding='same')(x)\n",
        "    x = BatchNormalization()(x)\n",
        "    x = Conv2D(128, (3, 3), activation='relu', padding='same')(x)\n",
        "    x = MaxPooling2D(2, 2)(x)\n",
        "    x = Dropout(0.25)(x)\n",
        "\n",
        "    # Global pooling and dense layers\n",
        "    x = GlobalAveragePooling2D()(x)\n",
        "    x = Dense(512, activation='relu')(x)\n",
        "    x = BatchNormalization()(x)\n",
        "    x = Dropout(0.5)(x)\n",
        "    x = Dense(1, activation='sigmoid')(x)\n",
        "\n",
        "    return Model(inputs=inputs, outputs=x)\n",
        "\n",
        "# Create the improved model\n",
        "improved_model = create_improved_model()"
      ],
      "metadata": {
        "id": "mUNMwZbhMC7O"
      },
      "execution_count": null,
      "outputs": []
    },
    {
      "cell_type": "code",
      "source": [
        "# 3. Advanced Training Setup with Callbacks\n",
        "\n",
        "# Learning rate reduction when validation loss stops improving\n",
        "reduce_lr = ReduceLROnPlateau(\n",
        "    monitor='val_loss',\n",
        "    factor=0.2,\n",
        "    patience=3,\n",
        "    min_lr=1e-7,\n",
        "    verbose=1\n",
        ")\n",
        "\n",
        "# Early stopping to prevent overfitting\n",
        "early_stop = EarlyStopping(\n",
        "    monitor='val_loss',\n",
        "    patience=10,\n",
        "    restore_best_weights=True,\n",
        "    verbose=1\n",
        ")\n",
        "\n",
        "# Save the best model\n",
        "checkpoint = ModelCheckpoint(\n",
        "    'best_cats_dogs_model.h5',\n",
        "    monitor='val_accuracy',\n",
        "    save_best_only=True,\n",
        "    verbose=1\n",
        ")\n",
        "\n",
        "callbacks = [reduce_lr, early_stop, checkpoint]"
      ],
      "metadata": {
        "id": "--lfhDObMEt4"
      },
      "execution_count": null,
      "outputs": []
    },
    {
      "cell_type": "code",
      "source": [
        "train_generator_improved = train_gen_improved.flow_from_directory(\n",
        "    TRAINING_DIR,\n",
        "    target_size=(128, 128),\n",
        "    batch_size=32,\n",
        "    class_mode='binary',\n",
        "    shuffle=True\n",
        ")\n",
        "\n",
        "validation_generator_improved = validation_gen_improved.flow_from_directory(\n",
        "    VALIDATION_DIR,\n",
        "    target_size=(128, 128),\n",
        "    batch_size=32,\n",
        "    class_mode='binary',\n",
        "    shuffle=False # Keep shuffle False for validation to ensure consistent evaluation\n",
        ")\n",
        "\n",
        "if INCLUDE_TEST:\n",
        "    test_gen_improved = ImageDataGenerator(rescale=1./255)\n",
        "    test_generator_improved = test_gen_improved.flow_from_directory(\n",
        "        TESTING_DIR,\n",
        "        target_size=(128, 128),\n",
        "        batch_size=32,\n",
        "        class_mode='binary',\n",
        "        shuffle=True\n",
        "    )"
      ],
      "metadata": {
        "id": "RVK9klFPMGU5",
        "colab": {
          "base_uri": "https://localhost:8080/",
          "height": 211
        },
        "outputId": "6220c491-b56a-4985-92ee-7d5f0839df44"
      },
      "execution_count": null,
      "outputs": [
        {
          "output_type": "error",
          "ename": "NameError",
          "evalue": "name 'train_gen_improved' is not defined",
          "traceback": [
            "\u001b[0;31m---------------------------------------------------------------------------\u001b[0m",
            "\u001b[0;31mNameError\u001b[0m                                 Traceback (most recent call last)",
            "\u001b[0;32m/tmp/ipython-input-1699091979.py\u001b[0m in \u001b[0;36m<cell line: 0>\u001b[0;34m()\u001b[0m\n\u001b[0;32m----> 1\u001b[0;31m train_generator_improved = train_gen_improved.flow_from_directory(\n\u001b[0m\u001b[1;32m      2\u001b[0m     \u001b[0mTRAINING_DIR\u001b[0m\u001b[0;34m,\u001b[0m\u001b[0;34m\u001b[0m\u001b[0;34m\u001b[0m\u001b[0m\n\u001b[1;32m      3\u001b[0m     \u001b[0mtarget_size\u001b[0m\u001b[0;34m=\u001b[0m\u001b[0;34m(\u001b[0m\u001b[0;36m128\u001b[0m\u001b[0;34m,\u001b[0m \u001b[0;36m128\u001b[0m\u001b[0;34m)\u001b[0m\u001b[0;34m,\u001b[0m\u001b[0;34m\u001b[0m\u001b[0;34m\u001b[0m\u001b[0m\n\u001b[1;32m      4\u001b[0m     \u001b[0mbatch_size\u001b[0m\u001b[0;34m=\u001b[0m\u001b[0;36m32\u001b[0m\u001b[0;34m,\u001b[0m\u001b[0;34m\u001b[0m\u001b[0;34m\u001b[0m\u001b[0m\n\u001b[1;32m      5\u001b[0m     \u001b[0mclass_mode\u001b[0m\u001b[0;34m=\u001b[0m\u001b[0;34m'binary'\u001b[0m\u001b[0;34m,\u001b[0m\u001b[0;34m\u001b[0m\u001b[0;34m\u001b[0m\u001b[0m\n",
            "\u001b[0;31mNameError\u001b[0m: name 'train_gen_improved' is not defined"
          ]
        }
      ]
    },
    {
      "cell_type": "code",
      "source": [
        "improved_model.compile(\n",
        "    optimizer=Adam(learning_rate=0.001, beta_1=0.9, beta_2=0.999),\n",
        "    loss='binary_crossentropy',\n",
        "    metrics=['accuracy', 'precision', 'recall']\n",
        ")\n",
        "\n",
        "# Display model summary\n",
        "improved_model.summary()"
      ],
      "metadata": {
        "id": "csUDzbVRMH-V"
      },
      "execution_count": null,
      "outputs": []
    },
    {
      "cell_type": "code",
      "source": [
        "history_improved = improved_model.fit(\n",
        "    train_generator_improved,\n",
        "    epochs=50,  # More epochs with early stopping\n",
        "    validation_data=validation_generator_improved,\n",
        "    callbacks=callbacks,\n",
        "    verbose=1\n",
        ")"
      ],
      "metadata": {
        "id": "wIQoe6U6MMH7"
      },
      "execution_count": null,
      "outputs": []
    },
    {
      "cell_type": "code",
      "metadata": {
        "id": "3945ddc1"
      },
      "source": [
        "import json\n",
        "\n",
        "# Save the training history\n",
        "history_dict = history_improved.history\n",
        "with open('training_history.json', 'w') as f:\n",
        "    json.dump(history_dict, f)"
      ],
      "execution_count": null,
      "outputs": []
    },
    {
      "cell_type": "code",
      "source": [
        "def plot_training_history(history):\n",
        "    fig, (ax1, ax2) = plt.subplots(1, 2, figsize=(15, 5))\n",
        "\n",
        "    # Plot accuracy\n",
        "    ax1.plot(history.history['accuracy'], label='Training Accuracy')\n",
        "    ax1.plot(history.history['val_accuracy'], label='Validation Accuracy')\n",
        "    ax1.set_title('Model Accuracy')\n",
        "    ax1.set_xlabel('Epoch')\n",
        "    ax1.set_ylabel('Accuracy')\n",
        "    ax1.legend()\n",
        "    ax1.grid(True)\n",
        "\n",
        "    # Plot loss\n",
        "    ax2.plot(history.history['loss'], label='Training Loss')\n",
        "    ax2.plot(history.history['val_loss'], label='Validation Loss')\n",
        "    ax2.set_title('Model Loss')\n",
        "    ax2.set_xlabel('Epoch')\n",
        "    ax2.set_ylabel('Loss')\n",
        "    ax2.legend()\n",
        "    ax2.grid(True)\n",
        "\n",
        "    plt.tight_layout()\n",
        "    plt.show()\n",
        "\n",
        "    final_train_acc = history.history['accuracy'][-1]\n",
        "    final_val_acc = history.history['val_accuracy'][-1]\n",
        "    print(f\"Final Training Accuracy: {final_train_acc:.4f}\")\n",
        "    print(f\"Final Validation Accuracy: {final_val_acc:.4f}\")\n",
        "\n",
        "plot_training_history(history_improved)"
      ],
      "metadata": {
        "id": "TyZlq570nuMf"
      },
      "execution_count": null,
      "outputs": []
    },
    {
      "cell_type": "code",
      "metadata": {
        "id": "3b93058f"
      },
      "source": [
        "\n",
        "best_model = load_model('best_cats_dogs_model.h5')"
      ],
      "execution_count": null,
      "outputs": []
    },
    {
      "cell_type": "code",
      "source": [
        "def plot_prediction(generator, n_images):\n",
        "    images, labels = next(generator)\n",
        "    preds = best_model.predict(images)\n",
        "    predictions = (preds > 0.5).astype(int).flatten()  # Convert to 0 or 1 and flatten the array\n",
        "    labels = labels.astype('int32')\n",
        "\n",
        "    plt.figure(figsize=(20, 20))\n",
        "    for idx, (image, label) in enumerate(zip(images, labels)):\n",
        "        if idx >= n_images:\n",
        "            break\n",
        "\n",
        "        plt.subplot(10, 10, idx + 1)\n",
        "        plt.imshow(image)\n",
        "\n",
        "        # Check if prediction matches actual label\n",
        "        title_obj = plt.title(f\"Actual: {class_names[label]}, Pred: {class_names[predictions[idx]]}\")\n",
        "        if predictions[idx] == label:\n",
        "            plt.setp(title_obj, color='g')\n",
        "        else:\n",
        "            plt.setp(title_obj, color='r')\n",
        "        plt.axis('off')\n",
        "\n",
        "    plt.tight_layout()\n",
        "    plt.show()\n",
        "\n",
        "    correct = sum(predictions[:n_images] == labels[:n_images])\n",
        "    accuracy = correct / min(n_images, len(labels))\n",
        "    print(f\"Accuracy: {accuracy:.2%} ({correct}/{min(n_images, len(labels))})\")"
      ],
      "metadata": {
        "id": "NRUqLh3vs4F9"
      },
      "execution_count": null,
      "outputs": []
    },
    {
      "cell_type": "code",
      "source": [
        "plot_prediction(test_generator_improved, 100)"
      ],
      "metadata": {
        "id": "SOMRPP4atmpG"
      },
      "execution_count": null,
      "outputs": []
    }
  ]
}